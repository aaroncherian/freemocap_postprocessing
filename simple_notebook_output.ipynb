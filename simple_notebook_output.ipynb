{
 "cells": [
  {
   "cell_type": "code",
   "execution_count": 1,
   "id": "e926c227",
   "metadata": {
    "execution": {
     "iopub.execute_input": "2023-03-21T13:52:38.696679Z",
     "iopub.status.busy": "2023-03-21T13:52:38.696679Z",
     "iopub.status.idle": "2023-03-21T13:52:38.720616Z",
     "shell.execute_reply": "2023-03-21T13:52:38.719621Z"
    },
    "papermill": {
     "duration": 0.035877,
     "end_time": "2023-03-21T13:52:38.723611",
     "exception": false,
     "start_time": "2023-03-21T13:52:38.687734",
     "status": "completed"
    },
    "tags": [
     "parameters"
    ]
   },
   "outputs": [],
   "source": [
    "name = 'Joe'"
   ]
  },
  {
   "cell_type": "code",
   "execution_count": 2,
   "id": "ff04bcf3",
   "metadata": {
    "execution": {
     "iopub.execute_input": "2023-03-21T13:52:38.744555Z",
     "iopub.status.busy": "2023-03-21T13:52:38.743559Z",
     "iopub.status.idle": "2023-03-21T13:52:38.752530Z",
     "shell.execute_reply": "2023-03-21T13:52:38.751537Z"
    },
    "papermill": {
     "duration": 0.021945,
     "end_time": "2023-03-21T13:52:38.754528",
     "exception": false,
     "start_time": "2023-03-21T13:52:38.732583",
     "status": "completed"
    },
    "tags": [
     "injected-parameters"
    ]
   },
   "outputs": [],
   "source": [
    "# Parameters\n",
    "name = \"C:/users\"\n"
   ]
  },
  {
   "cell_type": "code",
   "execution_count": 3,
   "id": "70758895",
   "metadata": {
    "execution": {
     "iopub.execute_input": "2023-03-21T13:52:38.773477Z",
     "iopub.status.busy": "2023-03-21T13:52:38.773477Z",
     "iopub.status.idle": "2023-03-21T13:52:38.783448Z",
     "shell.execute_reply": "2023-03-21T13:52:38.782454Z"
    },
    "papermill": {
     "duration": 0.022942,
     "end_time": "2023-03-21T13:52:38.785445",
     "exception": false,
     "start_time": "2023-03-21T13:52:38.762503",
     "status": "completed"
    },
    "tags": []
   },
   "outputs": [
    {
     "name": "stdout",
     "output_type": "stream",
     "text": [
      "C:/users\n"
     ]
    }
   ],
   "source": [
    "print(name)"
   ]
  }
 ],
 "metadata": {
  "kernelspec": {
   "display_name": "data_analysis",
   "language": "python",
   "name": "python3"
  },
  "language_info": {
   "codemirror_mode": {
    "name": "ipython",
    "version": 3
   },
   "file_extension": ".py",
   "mimetype": "text/x-python",
   "name": "python",
   "nbconvert_exporter": "python",
   "pygments_lexer": "ipython3",
   "version": "3.9.16"
  },
  "papermill": {
   "default_parameters": {},
   "duration": 3.469986,
   "end_time": "2023-03-21T13:52:39.789021",
   "environment_variables": {},
   "exception": null,
   "input_path": "simple_notebook.ipynb",
   "output_path": "simple_notebook_output.ipynb",
   "parameters": {
    "name": "C:/users"
   },
   "start_time": "2023-03-21T13:52:36.319035",
   "version": "2.4.0"
  }
 },
 "nbformat": 4,
 "nbformat_minor": 5
}