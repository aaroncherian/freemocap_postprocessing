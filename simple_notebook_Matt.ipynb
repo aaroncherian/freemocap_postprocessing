{
 "cells": [
  {
   "cell_type": "code",
   "execution_count": 1,
   "id": "acae3cea",
   "metadata": {
    "execution": {
     "iopub.execute_input": "2023-03-21T13:51:53.479725Z",
     "iopub.status.busy": "2023-03-21T13:51:53.478728Z",
     "iopub.status.idle": "2023-03-21T13:51:53.511641Z",
     "shell.execute_reply": "2023-03-21T13:51:53.509646Z"
    },
    "papermill": {
     "duration": 0.051862,
     "end_time": "2023-03-21T13:51:53.515630",
     "exception": false,
     "start_time": "2023-03-21T13:51:53.463768",
     "status": "completed"
    },
    "tags": [
     "parameters"
    ]
   },
   "outputs": [],
   "source": [
    "name = 'Joe'"
   ]
  },
  {
   "cell_type": "code",
   "execution_count": 2,
   "id": "85da7b8c",
   "metadata": {
    "execution": {
     "iopub.execute_input": "2023-03-21T13:51:53.543555Z",
     "iopub.status.busy": "2023-03-21T13:51:53.542561Z",
     "iopub.status.idle": "2023-03-21T13:51:53.558515Z",
     "shell.execute_reply": "2023-03-21T13:51:53.557517Z"
    },
    "papermill": {
     "duration": 0.032912,
     "end_time": "2023-03-21T13:51:53.562504",
     "exception": false,
     "start_time": "2023-03-21T13:51:53.529592",
     "status": "completed"
    },
    "tags": [
     "injected-parameters"
    ]
   },
   "outputs": [],
   "source": [
    "# Parameters\n",
    "name = \"Matt\"\n"
   ]
  },
  {
   "cell_type": "code",
   "execution_count": 3,
   "id": "bd615838",
   "metadata": {
    "execution": {
     "iopub.execute_input": "2023-03-21T13:51:53.591427Z",
     "iopub.status.busy": "2023-03-21T13:51:53.590430Z",
     "iopub.status.idle": "2023-03-21T13:51:53.605389Z",
     "shell.execute_reply": "2023-03-21T13:51:53.603394Z"
    },
    "papermill": {
     "duration": 0.036901,
     "end_time": "2023-03-21T13:51:53.610377",
     "exception": false,
     "start_time": "2023-03-21T13:51:53.573476",
     "status": "completed"
    },
    "tags": []
   },
   "outputs": [
    {
     "name": "stdout",
     "output_type": "stream",
     "text": [
      "Matt\n"
     ]
    }
   ],
   "source": [
    "print(name)"
   ]
  }
 ],
 "metadata": {
  "kernelspec": {
   "display_name": "data_analysis",
   "language": "python",
   "name": "python3"
  },
  "language_info": {
   "codemirror_mode": {
    "name": "ipython",
    "version": 3
   },
   "file_extension": ".py",
   "mimetype": "text/x-python",
   "name": "python",
   "nbconvert_exporter": "python",
   "pygments_lexer": "ipython3",
   "version": "3.9.16"
  },
  "papermill": {
   "default_parameters": {},
   "duration": 3.391934,
   "end_time": "2023-03-21T13:51:54.533908",
   "environment_variables": {},
   "exception": null,
   "input_path": "simple_notebook.ipynb",
   "output_path": "simple_notebook_Matt.ipynb",
   "parameters": {
    "name": "Matt"
   },
   "start_time": "2023-03-21T13:51:51.141974",
   "version": "2.4.0"
  }
 },
 "nbformat": 4,
 "nbformat_minor": 5
}